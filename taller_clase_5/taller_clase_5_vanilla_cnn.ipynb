{
  "cells": [
    {
      "cell_type": "markdown",
      "metadata": {},
      "source": [
        "# Taller Clase 5: Detección de Objetos - CNN Vanilla\n",
        "\n",
        "Modelo: CNN simple sin backbone pre-entrenado - ENTRENAMIENTO COMPLETO\n",
        "\n",
        "**Estructura del Taller**:\n",
        "- 1. Descargar dataset y etiquetas en imágenes (x_top, y_top)\n",
        "- 3. Modelo: Extractor de características + Cabeza (regresión de 4 variables)\n",
        "- 4. Entrenamiento\n",
        "    - 4.1 Visualizar resultados entrenamiento\n",
        "- 5. Evaluación\n",
        "- 6. Predicciones evaluación\n",
        "\n",
        "**Características:**\n",
        "- Arquitectura: CNN simple desde cero \n",
        "- Parámetros: ~15M (todos entrenables)\n",
        "- Ventajas: Simple, fácil de entender, sin dependencias de modelos pre-entrenados\n",
        "- Desventajas: Requiere más datos, entrenamiento más lento, menor rendimiento\n",
        "\n"
      ]
    },
    {
      "cell_type": "code",
      "execution_count": 5,
      "metadata": {},
      "outputs": [
        {
          "name": "stdout",
          "output_type": "stream",
          "text": [
            "🖥️ Dispositivo: cpu\n",
            "📊 Configuración OPTIMIZADA:\n",
            "   - Modelo: Vanilla_CNN\n",
            "   - Batch Size: 16\n",
            "   - Learning Rate: 0.0001\n",
            "   - Épocas: 50\n",
            "   - Early Stopping: 15 épocas\n",
            "   - ENTRENAMIENTO COMPLETO: Todos los parámetros se entrenan\n"
          ]
        }
      ],
      "source": [
        "# Importar las clases del módulo\n",
        "from bounding_box_vanilla_cnn import (\n",
        "    BoundingBoxDataset, \n",
        "    VanillaBoundingBoxRegressor, \n",
        "    WeightedMSELoss,\n",
        "    load_dataset,\n",
        "    train_model,\n",
        "    plot_training_results,\n",
        "    evaluate_model_detailed,\n",
        "    print_evaluation_results,\n",
        "    visualize_predictions\n",
        ")\n",
        "\n",
        "import torch\n",
        "import torch.optim as optim\n",
        "from torch.utils.data import DataLoader\n",
        "import torchvision.transforms as transforms\n",
        "import numpy as np\n",
        "import matplotlib.pyplot as plt\n",
        "import warnings\n",
        "warnings.filterwarnings('ignore')\n",
        "\n",
        "# Configuración del modelo CNN Vanilla OPTIMIZADO\n",
        "MODEL_NAME = \"Vanilla_CNN\"\n",
        "BATCH_SIZE = 16\n",
        "LEARNING_RATE = 1e-4  # REDUCIDO para mejor convergencia\n",
        "EPOCHS = 50  # Más épocas para entrenamiento completo\n",
        "PATIENCE = 15  # Más paciencia para entrenamiento completo\n",
        "MIN_DELTA = 1e-6  # Más sensible a mejoras\n",
        "\n",
        "device = torch.device('cuda' if torch.cuda.is_available() else 'cpu')\n",
        "print(f\"🖥️ Dispositivo: {device}\")\n",
        "print(f\"📊 Configuración OPTIMIZADA:\")\n",
        "print(f\"   - Modelo: {MODEL_NAME}\")\n",
        "print(f\"   - Batch Size: {BATCH_SIZE}\")\n",
        "print(f\"   - Learning Rate: {LEARNING_RATE}\")\n",
        "print(f\"   - Épocas: {EPOCHS}\")\n",
        "print(f\"   - Early Stopping: {PATIENCE} épocas\")\n",
        "print(f\"   - ENTRENAMIENTO COMPLETO: Todos los parámetros se entrenan\")\n"
      ]
    },
    {
      "cell_type": "markdown",
      "metadata": {},
      "source": [
        "## 1. Descargar dataset y etiquetas en imágenes (x_top, y_top)\n"
      ]
    },
    {
      "cell_type": "code",
      "execution_count": 6,
      "metadata": {},
      "outputs": [
        {
          "name": "stdout",
          "output_type": "stream",
          "text": [
            "📁 Dataset cargado: 6209 muestras\n",
            "📂 Categorías: 102\n",
            "📊 División del dataset:\n",
            "   - Entrenamiento: 4967 muestras\n",
            "   - Validación: 1242 muestras\n"
          ]
        }
      ],
      "source": [
        "# Cargar dataset\n",
        "image_paths, annotation_paths = load_dataset()\n",
        "\n",
        "# Transformaciones MEJORADAS\n",
        "transform = transforms.Compose([\n",
        "    transforms.ToPILImage(),\n",
        "    transforms.Resize((224, 224)),\n",
        "    transforms.ToTensor(),\n",
        "    transforms.Normalize(mean=[0.485, 0.456, 0.406], std=[0.229, 0.224, 0.225])\n",
        "])\n",
        "\n",
        "# Crear dataset\n",
        "dataset = BoundingBoxDataset(image_paths, annotation_paths, transform=transform)\n",
        "\n",
        "# Dividir dataset\n",
        "train_size = int(0.8 * len(dataset))\n",
        "val_size = len(dataset) - train_size\n",
        "train_dataset, val_dataset = torch.utils.data.random_split(dataset, [train_size, val_size])\n",
        "\n",
        "# Crear DataLoaders\n",
        "train_loader = DataLoader(train_dataset, batch_size=BATCH_SIZE, shuffle=True, num_workers=0)\n",
        "val_loader = DataLoader(val_dataset, batch_size=BATCH_SIZE, shuffle=False, num_workers=0)\n",
        "\n",
        "print(f\"📊 División del dataset:\")\n",
        "print(f\"   - Entrenamiento: {len(train_dataset)} muestras\")\n",
        "print(f\"   - Validación: {len(val_dataset)} muestras\")\n"
      ]
    },
    {
      "cell_type": "markdown",
      "metadata": {},
      "source": [
        "## 3. Modelo: Extractor de características + Cabeza (regresión de 4 variables)\n"
      ]
    },
    {
      "cell_type": "code",
      "execution_count": 7,
      "metadata": {},
      "outputs": [
        {
          "name": "stdout",
          "output_type": "stream",
          "text": [
            "🤖 Modelo Vanilla_CNN  creado:\n",
            "   - Parámetros totales: 58,051,332\n",
            "   - Parámetros ENTRENABLES: 58,051,332\n",
            "   - ENTRENAMIENTO COMPLETO: Todos los parámetros se entrenan\n",
            "⚙️ Configuración de entrenamiento:\n",
            "   - Función de pérdida: WeightedMSE (pesos: tensor([1., 1., 1., 1.]))\n",
            "   - Optimizador: AdamW (lr=0.0001, weight_decay=1e-4)\n",
            "   - Scheduler: StepLR (step_size=10, gamma=0.7)\n",
            "   - Entrena todos los: 58,051,332 parámetros\n"
          ]
        }
      ],
      "source": [
        "# Crear modelo\n",
        "model = VanillaBoundingBoxRegressor()\n",
        "model = model.to(device)\n",
        "\n",
        "# Contar parámetros\n",
        "total_params = sum(p.numel() for p in model.parameters())\n",
        "trainable_params = sum(p.numel() for p in model.parameters() if p.requires_grad)\n",
        "\n",
        "print(f\"🤖 Modelo {MODEL_NAME}  creado:\")\n",
        "print(f\"   - Parámetros totales: {total_params:,}\")\n",
        "print(f\"   - Parámetros ENTRENABLES: {trainable_params:,}\")\n",
        "print(f\"   - ENTRENAMIENTO COMPLETO: Todos los parámetros se entrenan\")\n",
        "\n",
        "# Configurar entrenamiento OPTIMIZADO\n",
        "criterion = WeightedMSELoss()\n",
        "optimizer = optim.AdamW(model.parameters(), lr=LEARNING_RATE, weight_decay=1e-4)  # AdamW con weight decay\n",
        "scheduler = optim.lr_scheduler.StepLR(optimizer, step_size=10, gamma=0.7)  # StepLR más gradual\n",
        "\n",
        "print(f\"⚙️ Configuración de entrenamiento:\")\n",
        "print(f\"   - Función de pérdida: WeightedMSE (pesos: {criterion.weights})\")\n",
        "print(f\"   - Optimizador: AdamW (lr={LEARNING_RATE}, weight_decay=1e-4)\")\n",
        "print(f\"   - Scheduler: StepLR (step_size=10, gamma=0.7)\")\n",
        "print(f\"   - Entrena todos los: {trainable_params:,} parámetros\")\n"
      ]
    },
    {
      "cell_type": "markdown",
      "metadata": {},
      "source": [
        "## 4. Entrenamiento\n"
      ]
    },
    {
      "cell_type": "code",
      "execution_count": null,
      "metadata": {},
      "outputs": [
        {
          "name": "stdout",
          "output_type": "stream",
          "text": [
            "🚀 Iniciando entrenamiento OPTIMIZADO de Vanilla_CNN por 50 épocas con early stopping (patience=15)\n",
            "⚠️  Nota: CNN Vanilla requiere entrenamiento completo desde cero\n",
            "================================================================================\n",
            "Epoch   1/50 | Train Loss: 0.0649 | Val Loss: 0.0381 | LR: 1.00e-04 | Patience: 0/15\n",
            "Epoch   2/50 | Train Loss: 0.0396 | Val Loss: 0.0372 | LR: 1.00e-04 | Patience: 0/15\n",
            "Epoch   3/50 | Train Loss: 0.0371 | Val Loss: 0.0328 | LR: 1.00e-04 | Patience: 0/15\n",
            "Epoch   4/50 | Train Loss: 0.0341 | Val Loss: 0.0337 | LR: 1.00e-04 | Patience: 1/15\n",
            "Epoch   5/50 | Train Loss: 0.0318 | Val Loss: 0.0341 | LR: 1.00e-04 | Patience: 2/15\n",
            "Epoch   6/50 | Train Loss: 0.0294 | Val Loss: 0.0345 | LR: 1.00e-04 | Patience: 3/15\n",
            "Epoch   7/50 | Train Loss: 0.0268 | Val Loss: 0.0310 | LR: 1.00e-04 | Patience: 0/15\n",
            "Epoch   8/50 | Train Loss: 0.0244 | Val Loss: 0.0305 | LR: 1.00e-04 | Patience: 0/15\n",
            "Epoch   9/50 | Train Loss: 0.0223 | Val Loss: 0.0298 | LR: 1.00e-04 | Patience: 0/15\n",
            "Epoch  10/50 | Train Loss: 0.0194 | Val Loss: 0.0352 | LR: 7.00e-05 | Patience: 1/15\n",
            "Epoch  11/50 | Train Loss: 0.0162 | Val Loss: 0.0283 | LR: 7.00e-05 | Patience: 0/15\n",
            "Epoch  12/50 | Train Loss: 0.0139 | Val Loss: 0.0306 | LR: 7.00e-05 | Patience: 1/15\n",
            "Epoch  13/50 | Train Loss: 0.0125 | Val Loss: 0.0290 | LR: 7.00e-05 | Patience: 2/15\n",
            "Epoch  14/50 | Train Loss: 0.0118 | Val Loss: 0.0301 | LR: 7.00e-05 | Patience: 3/15\n",
            "Epoch  15/50 | Train Loss: 0.0108 | Val Loss: 0.0291 | LR: 7.00e-05 | Patience: 4/15\n",
            "Epoch  16/50 | Train Loss: 0.0099 | Val Loss: 0.0294 | LR: 7.00e-05 | Patience: 5/15\n",
            "Epoch  17/50 | Train Loss: 0.0090 | Val Loss: 0.0286 | LR: 7.00e-05 | Patience: 6/15\n",
            "Epoch  18/50 | Train Loss: 0.0085 | Val Loss: 0.0314 | LR: 7.00e-05 | Patience: 7/15\n",
            "Epoch  19/50 | Train Loss: 0.0081 | Val Loss: 0.0289 | LR: 7.00e-05 | Patience: 8/15\n",
            "Epoch  20/50 | Train Loss: 0.0079 | Val Loss: 0.0292 | LR: 4.90e-05 | Patience: 9/15\n",
            "Epoch  21/50 | Train Loss: 0.0071 | Val Loss: 0.0281 | LR: 4.90e-05 | Patience: 0/15\n",
            "Epoch  22/50 | Train Loss: 0.0064 | Val Loss: 0.0299 | LR: 4.90e-05 | Patience: 1/15\n",
            "Epoch  23/50 | Train Loss: 0.0061 | Val Loss: 0.0304 | LR: 4.90e-05 | Patience: 2/15\n",
            "Epoch  24/50 | Train Loss: 0.0060 | Val Loss: 0.0295 | LR: 4.90e-05 | Patience: 3/15\n",
            "Epoch  25/50 | Train Loss: 0.0057 | Val Loss: 0.0292 | LR: 4.90e-05 | Patience: 4/15\n",
            "Epoch  26/50 | Train Loss: 0.0055 | Val Loss: 0.0302 | LR: 4.90e-05 | Patience: 5/15\n",
            "Epoch  27/50 | Train Loss: 0.0054 | Val Loss: 0.0288 | LR: 4.90e-05 | Patience: 6/15\n",
            "Epoch  28/50 | Train Loss: 0.0054 | Val Loss: 0.0297 | LR: 4.90e-05 | Patience: 7/15\n",
            "Epoch  29/50 | Train Loss: 0.0052 | Val Loss: 0.0294 | LR: 4.90e-05 | Patience: 8/15\n",
            "Epoch  30/50 | Train Loss: 0.0052 | Val Loss: 0.0278 | LR: 3.43e-05 | Patience: 0/15\n",
            "Epoch  31/50 | Train Loss: 0.0048 | Val Loss: 0.0279 | LR: 3.43e-05 | Patience: 1/15\n",
            "Epoch  32/50 | Train Loss: 0.0046 | Val Loss: 0.0294 | LR: 3.43e-05 | Patience: 2/15\n",
            "Epoch  33/50 | Train Loss: 0.0046 | Val Loss: 0.0296 | LR: 3.43e-05 | Patience: 3/15\n",
            "Epoch  34/50 | Train Loss: 0.0043 | Val Loss: 0.0297 | LR: 3.43e-05 | Patience: 4/15\n",
            "Epoch  35/50 | Train Loss: 0.0042 | Val Loss: 0.0299 | LR: 3.43e-05 | Patience: 5/15\n",
            "Epoch  36/50 | Train Loss: 0.0041 | Val Loss: 0.0306 | LR: 3.43e-05 | Patience: 6/15\n",
            "Epoch  37/50 | Train Loss: 0.0042 | Val Loss: 0.0286 | LR: 3.43e-05 | Patience: 7/15\n",
            "Epoch  38/50 | Train Loss: 0.0040 | Val Loss: 0.0283 | LR: 3.43e-05 | Patience: 8/15\n",
            "Epoch  39/50 | Train Loss: 0.0040 | Val Loss: 0.0297 | LR: 3.43e-05 | Patience: 9/15\n",
            "Epoch  40/50 | Train Loss: 0.0038 | Val Loss: 0.0310 | LR: 2.40e-05 | Patience: 10/15\n",
            "Epoch  41/50 | Train Loss: 0.0037 | Val Loss: 0.0295 | LR: 2.40e-05 | Patience: 11/15\n",
            "Epoch 42/50 - Batch 156/311 (50.2%) - Loss: 0.0031"
          ]
        }
      ],
      "source": [
        "# Entrenar\n",
        "train_losses, val_losses = train_model(\n",
        "    model, train_loader, val_loader, criterion, optimizer, scheduler, \n",
        "    EPOCHS, device, patience=PATIENCE, min_delta=MIN_DELTA\n",
        ")\n"
      ]
    },
    {
      "cell_type": "markdown",
      "metadata": {},
      "source": [
        "### 4.1 Visualizar resultados entrenamiento\n"
      ]
    },
    {
      "cell_type": "code",
      "execution_count": null,
      "metadata": {},
      "outputs": [],
      "source": [
        "# Visualizar resultados del entrenamiento\n",
        "plot_training_results(train_losses, val_losses)\n",
        "\n",
        "print(f\"📊 Resultados finales de {MODEL_NAME}:\")\n",
        "print(f\"   - Pérdida final de entrenamiento: {train_losses[-1]:.4f}\")\n",
        "print(f\"   - Pérdida final de validación: {val_losses[-1]:.4f}\")\n",
        "print(f\"   - Mejor pérdida de validación: {min(val_losses):.4f}\")\n"
      ]
    },
    {
      "cell_type": "markdown",
      "metadata": {},
      "source": [
        "## 5. Evaluación\n"
      ]
    },
    {
      "cell_type": "code",
      "execution_count": null,
      "metadata": {},
      "outputs": [],
      "source": [
        "# Evaluar\n",
        "print(f\"🔍 Evaluando el modelo {MODEL_NAME} ...\")\n",
        "evaluation_results = evaluate_model_detailed(model, val_loader, device)\n",
        "print_evaluation_results(evaluation_results)\n"
      ]
    },
    {
      "cell_type": "markdown",
      "metadata": {},
      "source": [
        "## 6. Predicciones evaluación\n"
      ]
    },
    {
      "cell_type": "code",
      "execution_count": null,
      "metadata": {},
      "outputs": [],
      "source": [
        "visualize_predictions(model, val_dataset, num_samples=1, device=device)\n"
      ]
    },
    {
      "cell_type": "code",
      "execution_count": null,
      "metadata": {},
      "outputs": [],
      "source": [
        "visualize_predictions(model, val_dataset, num_samples=4, device=device)"
      ]
    },
    {
      "cell_type": "code",
      "execution_count": null,
      "metadata": {},
      "outputs": [],
      "source": [
        "# Guardar modelo\n",
        "from datetime import datetime\n",
        "import os\n",
        "\n",
        "model_dir = \"models\"\n",
        "if not os.path.exists(model_dir):\n",
        "    os.makedirs(model_dir)\n",
        "\n",
        "timestamp = datetime.now().strftime(\"%Y%m%d_%H%M%S\")\n",
        "model_name_file = f\"{MODEL_NAME.lower().replace('-', '_')}_bounding_box_model_{timestamp}.pth\"\n",
        "model_path = os.path.join(model_dir, model_name_file)\n",
        "\n",
        "torch.save({\n",
        "    'model_state_dict': model.state_dict(),\n",
        "    'model_architecture': 'VanillaBoundingBoxRegressor',\n",
        "    'backbone': 'None',\n",
        "    'num_classes': 4,\n",
        "    'epochs_trained': len(train_losses),\n",
        "    'final_train_loss': train_losses[-1],\n",
        "    'final_val_loss': val_losses[-1],\n",
        "    'best_val_loss': min(val_losses),\n",
        "    'evaluation_results': evaluation_results,\n",
        "    'optimizations_applied': [\n",
        "        'Formato correcto de coordenadas [y1,y2,x1,x2] -> [x1,y1,x2,y2]',\n",
        "        'Normalización correcta',\n",
        "        'Visualización completamente corregida',\n",
        "        'ENTRENAMIENTO COMPLETO - Todos los parámetros',\n",
        "        'Arquitectura mejorada con más capas',\n",
        "        'Configuración de entrenamiento optimizada',\n",
        "        'Learning rate optimizado (5e-4)',\n",
        "        'Más épocas (40) para entrenamiento completo',\n",
        "        'Más paciencia (12)',\n",
        "        'Gradient clipping',\n",
        "        'AdamW optimizer',\n",
        "        'Cosine annealing scheduler'\n",
        "    ],\n",
        "    'parameters_info': {\n",
        "        'total_params': total_params,\n",
        "        'trainable_params': trainable_params,\n",
        "        'training_type': 'full_training'\n",
        "    }\n",
        "}, model_path)\n",
        "\n",
        "print(f\"💾 Modelo {MODEL_NAME} guardado exitosamente:\")\n",
        "print(f\"   - Archivo: {model_path}\")\n",
        "print(f\"   - Épocas entrenadas: {len(train_losses)}\")\n",
        "print(f\"   - Mejor pérdida de validación: {min(val_losses):.4f}\")\n",
        "print(f\"   - Error promedio: {evaluation_results['mae'] * 100:.2f}%\")\n",
        "print(f\"   - Parámetros entrenables: {trainable_params:,} (100%)\")\n"
      ]
    }
  ],
  "metadata": {
    "kernelspec": {
      "display_name": ".venv",
      "language": "python",
      "name": "python3"
    },
    "language_info": {
      "codemirror_mode": {
        "name": "ipython",
        "version": 3
      },
      "file_extension": ".py",
      "mimetype": "text/x-python",
      "name": "python",
      "nbconvert_exporter": "python",
      "pygments_lexer": "ipython3",
      "version": "3.12.11"
    }
  },
  "nbformat": 4,
  "nbformat_minor": 2
}
